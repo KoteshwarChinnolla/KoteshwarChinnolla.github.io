{
 "cells": [
  {
   "cell_type": "code",
   "execution_count": 1,
   "metadata": {},
   "outputs": [],
   "source": [
    "from langchain.llms.bedrock import Bedrock"
   ]
  },
  {
   "cell_type": "code",
   "execution_count": 4,
   "metadata": {},
   "outputs": [],
   "source": [
    "model = Bedrock(\n",
    "    credentials_profile_name=\"default\",  # AWS credentials profile\n",
    "    region_name=\"us-east-1\",\n",
    "    model_id=\"amazon.titan-text-premier-v1:0\",  # Amazon Bedrock model\n",
    "    model_kwargs={\n",
    "        \"temperature\": 0.9,\n",
    "        # \"max_tokens_to_sample\": 50,\n",
    "        # \"stop\": [\"\\n\\n\\n\"]\n",
    "    },\n",
    ")"
   ]
  },
  {
   "cell_type": "code",
   "execution_count": 5,
   "metadata": {},
   "outputs": [
    {
     "data": {
      "text/plain": [
       "\"Hello! I'm doing well, thank you. How can I assist you today? If you need any information or have any questions, please feel free to ask. I'm here to help!\""
      ]
     },
     "execution_count": 5,
     "metadata": {},
     "output_type": "execute_result"
    }
   ],
   "source": [
    "model.predict(\"Hello, how are you?\")"
   ]
  },
  {
   "cell_type": "code",
   "execution_count": null,
   "metadata": {},
   "outputs": [],
   "source": [
    "git login"
   ]
  },
  {
   "cell_type": "code",
   "execution_count": 1,
   "metadata": {},
   "outputs": [],
   "source": [
    "import pandas as pd\n",
    "import  numpy as np"
   ]
  },
  {
   "cell_type": "code",
   "execution_count": 9,
   "metadata": {},
   "outputs": [],
   "source": [
    "df = pd.read_csv('self.csv', on_bad_lines='skip')"
   ]
  },
  {
   "cell_type": "code",
   "execution_count": 17,
   "metadata": {},
   "outputs": [],
   "source": [
    "a=df[\"question\"]"
   ]
  },
  {
   "cell_type": "code",
   "execution_count": 21,
   "metadata": {},
   "outputs": [],
   "source": [
    "k=[]\n",
    "for i in a:\n",
    "    k.append(i)"
   ]
  },
  {
   "cell_type": "code",
   "execution_count": 22,
   "metadata": {},
   "outputs": [
    {
     "data": {
      "text/plain": [
       "['What is your name?',\n",
       " 'Where do you study?',\n",
       " 'What is your CGPA?',\n",
       " 'Where did you complete your intermediate education?',\n",
       " 'What was your score in Intermediate?',\n",
       " 'What is your major?',\n",
       " 'Which semester are you currently in?',\n",
       " 'Which project are you currently working on?',\n",
       " 'What did you use for autonomous navigation in your vehicle project?',\n",
       " 'What is the focus of your product demand prediction project?',\n",
       " 'What deep learning models did you use for product demand prediction?',\n",
       " 'What was the prediction accuracy for your product demand project?',\n",
       " 'What was your approach to building the real-time e-commerce website?',\n",
       " 'What is the primary focus of the Comprehensive Health Web project?',\n",
       " 'How did you handle doctor handwriting recognition in your project?',\n",
       " 'What is the purpose of the Rental System in the Comprehensive Health Web project?',\n",
       " 'Which certification courses have you completed related to AWS?',\n",
       " 'How do you plan to use machine learning in the future?',\n",
       " 'What were the major learnings from your machine learning Udemy certification?',\n",
       " 'What did you learn from your NPTL Python course?',\n",
       " 'What is your experience with AWS Lambda?',\n",
       " 'What is your experience with AWS DynamoDB?',\n",
       " 'What did you learn from your VLSI lab work?',\n",
       " 'How do you plan to enhance your skills in embedded systems?',\n",
       " 'What leadership roles have you taken during your academic career?',\n",
       " 'What is your final year project?',\n",
       " 'How do you plan to improve the navigation of your autonomous vehicle?',\n",
       " 'Can you explain how LADAR technology is used in your project?',\n",
       " 'How did you ensure security for your e-commerce website?',\n",
       " 'What role did deep learning play in your Product Demand Prediction project?',\n",
       " 'What challenges did you face while building the A* Algorithm Autonomous Navigation Vehicle?',\n",
       " 'How does the A* algorithm help in autonomous vehicle navigation?',\n",
       " 'Can you explain the concept of machine learning in cloud computing?',\n",
       " 'What is the focus of your VLSI project work?',\n",
       " 'Which tools did you use for processing LADAR data in your autonomous navigation project?',\n",
       " 'How do you balance academics and extracurricular activities?',\n",
       " 'What was the most impactful hackathon you participated in?',\n",
       " 'What impact do you expect from your work on autonomous vehicles?',\n",
       " 'What was your role in the EPITOME hackathon?',\n",
       " 'What was the focus of your CBIT hackathon project?',\n",
       " 'What did you contribute to the Challenge ACI hackathon?',\n",
       " 'What was the most challenging aspect of participating in hackathons?',\n",
       " 'What was the most rewarding part of participating in hackathons?',\n",
       " 'How did you contribute to the Advanced Academic Center?',\n",
       " 'How does participating in extracurricular activities benefit you as a student?']"
      ]
     },
     "execution_count": 22,
     "metadata": {},
     "output_type": "execute_result"
    }
   ],
   "source": [
    "k"
   ]
  }
 ],
 "metadata": {
  "kernelspec": {
   "display_name": "base",
   "language": "python",
   "name": "python3"
  },
  "language_info": {
   "codemirror_mode": {
    "name": "ipython",
    "version": 3
   },
   "file_extension": ".py",
   "mimetype": "text/x-python",
   "name": "python",
   "nbconvert_exporter": "python",
   "pygments_lexer": "ipython3",
   "version": "3.9.12"
  }
 },
 "nbformat": 4,
 "nbformat_minor": 2
}
